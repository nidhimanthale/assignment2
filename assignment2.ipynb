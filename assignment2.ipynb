{
 "cells": [
  {
   "cell_type": "code",
   "execution_count": 1,
   "metadata": {},
   "outputs": [
    {
     "name": "stdout",
     "output_type": "stream",
     "text": [
      "205\n"
     ]
    }
   ],
   "source": [
    "# Write a Python Program to implement your own myreduce() function which works exactly like Python's built-in function reduce()\n",
    "\n",
    "def myreduce(l):\n",
    "    add=l[0]+l[1]\n",
    "    for i in range(2,len(l)):\n",
    "        add=add+l[i]\n",
    "    print(add) \n",
    "    \n",
    "li=[15,45,88,22,35]    \n",
    "myreduce(li)"
   ]
  },
  {
   "cell_type": "code",
   "execution_count": 2,
   "metadata": {},
   "outputs": [
    {
     "data": {
      "text/plain": [
       "[0, 3, 6, 9, 12, 15, 18, 21, 24, 27, 30, 33, 36, 39]"
      ]
     },
     "execution_count": 2,
     "metadata": {},
     "output_type": "execute_result"
    }
   ],
   "source": [
    "# Write a Python Program to implement your own myfilter() function which works exactly like Python's built-in function filter()\n",
    "\n",
    "def myfilter(l):\n",
    "    y=[]\n",
    "    for i in range(len(l)):\n",
    "        if (l[i]%3==0):\n",
    "            y.append(l[i])\n",
    "    return y\n",
    "\n",
    "li=list(range(40))\n",
    "myfilter(li)"
   ]
  },
  {
   "cell_type": "code",
   "execution_count": 3,
   "metadata": {},
   "outputs": [
    {
     "name": "stdout",
     "output_type": "stream",
     "text": [
      "['A', 'C', 'A', 'D', 'G', 'I', 'L', 'D']\n"
     ]
    }
   ],
   "source": [
    "# Implement List comprehensions to produce the following list: ['A', 'C', 'A', 'D', 'G', 'I', 'L', 'D']\n",
    "\n",
    "s1=\"ACADGILD\"\n",
    "l1=list(s1)\n",
    "print(l1)"
   ]
  },
  {
   "cell_type": "code",
   "execution_count": 4,
   "metadata": {},
   "outputs": [
    {
     "name": "stdout",
     "output_type": "stream",
     "text": [
      "['x', 'xx', 'xxx', 'xxxx', 'y', 'yy', 'yyy', 'yyyy', 'z', 'zz', 'zzz', 'zzzz']\n"
     ]
    }
   ],
   "source": [
    "# Implement List comprehensions to produce the following list: ['x', 'xx', 'xxx', 'xxxx', 'y', 'yy', 'yyy', 'yyyy', 'z', 'zz', 'zzz', 'zzzz']\n",
    "\n",
    "l1=['x','y','z']\n",
    "l2=[]\n",
    "for i in l1:\n",
    "    j=1\n",
    "    while j<=4:\n",
    "        l2.append(i*j)\n",
    "        j=j+1\n",
    "print(l2)"
   ]
  },
  {
   "cell_type": "code",
   "execution_count": 5,
   "metadata": {},
   "outputs": [
    {
     "name": "stdout",
     "output_type": "stream",
     "text": [
      "['x', 'y', 'z', 'xx', 'yy', 'zz', 'xxx', 'yyy', 'zzz', 'xxxx', 'yyyy', 'zzzz']\n"
     ]
    }
   ],
   "source": [
    "# Implement List comprehensions to produce the following list: ['x', 'y', 'z', 'xx', 'yy', 'zz', 'xxx', 'yyy', 'zzz', 'xxxx', 'yyyy', 'zzzz']\n",
    "\n",
    "l1=['x','y','z']\n",
    "l2=[]\n",
    "j=1\n",
    "while j<=4:\n",
    "    for i in range(len(l1)):\n",
    "        l2.append(l1[i]*j)\n",
    "    j=j+1\n",
    "print(l2)"
   ]
  },
  {
   "cell_type": "code",
   "execution_count": 6,
   "metadata": {},
   "outputs": [
    {
     "name": "stdout",
     "output_type": "stream",
     "text": [
      "[[2], [3], [4], [3], [4], [5], [4], [5], [6]]\n"
     ]
    }
   ],
   "source": [
    "# Implement List comprehensions to produce the following list: [[2], [3], [4], [3], [4], [5], [4], [5], [6]]\n",
    "\n",
    "l1=[2,3,4]\n",
    "l2=[]\n",
    "for i in l1:\n",
    "    for j in range(0,3):\n",
    "        l2.append([i+j])\n",
    "print(l2)"
   ]
  },
  {
   "cell_type": "code",
   "execution_count": 7,
   "metadata": {},
   "outputs": [
    {
     "name": "stdout",
     "output_type": "stream",
     "text": [
      "[[2, 3, 4, 5], [3, 4, 5, 6], [4, 5, 6, 7], [5, 6, 7, 8]]\n"
     ]
    }
   ],
   "source": [
    "# Implement List comprehensions to produce the following list: [[2, 3, 4, 5], [3, 4, 5, 6], [4, 5, 6, 7], [5, 6, 7, 8]]\n",
    "\n",
    "l1=[2,3,4,5]\n",
    "l2=[]\n",
    "for i in l1:\n",
    "    l2.append([i,i+1,i+2,i+3])    \n",
    "print(l2)"
   ]
  },
  {
   "cell_type": "code",
   "execution_count": 8,
   "metadata": {},
   "outputs": [
    {
     "name": "stdout",
     "output_type": "stream",
     "text": [
      "[(1, 1), (2, 1), (3, 1), (1, 2), (2, 2), (3, 2), (1, 3), (2, 3), (3, 3)]\n"
     ]
    }
   ],
   "source": [
    "# Implement List comprehensions to produce the following list: [(1, 1), (2, 1), (3, 1), (1, 2), (2, 2), (3, 2), (1, 3), (2, 3), (3, 3)]\n",
    "\n",
    "l1=[]\n",
    "for i in range(1,4):\n",
    "    for j in range(1,4):\n",
    "        t=(j,i)\n",
    "        l1.append(t)    \n",
    "print(l1)"
   ]
  },
  {
   "cell_type": "code",
   "execution_count": 9,
   "metadata": {},
   "outputs": [
    {
     "name": "stdout",
     "output_type": "stream",
     "text": [
      "The longest word is caterpillar\n"
     ]
    }
   ],
   "source": [
    "# Implement a function longestWord() that takes a list of words and returns the longest one.\n",
    "\n",
    "def longestWord(l):\n",
    "    x=l[0]\n",
    "    for i in range(1,len(l)):\n",
    "        if(len(x)>len(l[i])):\n",
    "            x=x\n",
    "        else:\n",
    "            x=l[i]        \n",
    "    print(\"The longest word is \"+x)\n",
    "    \n",
    "li=['ant','bull','caterpillar','donkey','elephant','frog']    \n",
    "longestWord(li)"
   ]
  },
  {
   "cell_type": "code",
   "execution_count": 10,
   "metadata": {},
   "outputs": [
    {
     "name": "stdout",
     "output_type": "stream",
     "text": [
      "The triangle sides are a=2.000000, b=3.000000 and c=4.000000\n",
      "The value of s is 4.500000 and Area of the triangle is 2.904738\n"
     ]
    }
   ],
   "source": [
    "# Write a Python Program (with class concepts) to find the area of the triangle using the below formula.\n",
    "# area=(s*(s-a)*(s-b)*(s-c))**0.5\n",
    "\n",
    "class Triangle:\n",
    "    def __init__(self, a, b, c):\n",
    "        self.a=a\n",
    "        self.b=b\n",
    "        self.c=c\n",
    "        \n",
    "    def __str__(self):\n",
    "        return \"The triangle sides are a=%f, b=%f and c=%f\" %(self.a,self.b,self.c)\n",
    "\n",
    "\n",
    "t=Triangle(2,3,4)   \n",
    "print(t)\n",
    "\n",
    "\n",
    "class Area(Triangle):\n",
    "    def __init__(self,*args,**kwargs):\n",
    "        super(Area,self).__init__(*args,**kwargs)\n",
    "        \n",
    "    def __str__(self):\n",
    "        s=1/2*(self.a+self.b+self.c)\n",
    "        area=(s*(s-self.a)*(s-self.b)*(s-self.c))**0.5\n",
    "        return \"The value of s is %f and Area of the triangle is %f\" %(s,area)\n",
    "\n",
    "n=Area(2,3,4)\n",
    "print(n)"
   ]
  },
  {
   "cell_type": "code",
   "execution_count": 11,
   "metadata": {},
   "outputs": [
    {
     "data": {
      "text/plain": [
       "['caterpillar', 'donkey', 'elephant']"
      ]
     },
     "execution_count": 11,
     "metadata": {},
     "output_type": "execute_result"
    }
   ],
   "source": [
    "# Write a function filter_long_words() that takes a list of words and an integer n and returns the list of words that are longer than n.\n",
    "\n",
    "def filter_long_words(l,n):\n",
    "    y=[]\n",
    "    for i in range(len(l)):\n",
    "        if (len(l[i])>n):\n",
    "            y.append(l[i])\n",
    "    return y\n",
    "\n",
    "li=['ant','bull','caterpillar','donkey','elephant','frog']\n",
    "filter_long_words(li,5)"
   ]
  },
  {
   "cell_type": "code",
   "execution_count": 12,
   "metadata": {},
   "outputs": [
    {
     "data": {
      "text/plain": [
       "[3, 4, 11, 6, 8, 4]"
      ]
     },
     "execution_count": 12,
     "metadata": {},
     "output_type": "execute_result"
    }
   ],
   "source": [
    "# Write a Python Program using function concept that maps list of words into a list of integers representing the lengths of the corresponding words.\n",
    "\n",
    "def length(w):\n",
    "    return len(w)\n",
    "\n",
    "li=['ant','bull','caterpillar','donkey','elephant','frog']\n",
    "\n",
    "x=list(map(length,li))\n",
    "\n",
    "x"
   ]
  },
  {
   "cell_type": "code",
   "execution_count": 13,
   "metadata": {},
   "outputs": [
    {
     "data": {
      "text/plain": [
       "True"
      ]
     },
     "execution_count": 13,
     "metadata": {},
     "output_type": "execute_result"
    }
   ],
   "source": [
    "# Write a Python function which takes a character (i.e. a string of length 1) and returns True if it is a vowel, False otherwise.\n",
    "\n",
    "def vowel(char):\n",
    "        if (char==\"a\" or char==\"e\" or char==\"i\" or char==\"o\" or char==\"u\"):\n",
    "            return True\n",
    "        else:\n",
    "            return False\n",
    "        \n",
    "vowel('i')"
   ]
  }
 ],
 "metadata": {
  "kernelspec": {
   "display_name": "Python 3",
   "language": "python",
   "name": "python3"
  },
  "language_info": {
   "codemirror_mode": {
    "name": "ipython",
    "version": 3
   },
   "file_extension": ".py",
   "mimetype": "text/x-python",
   "name": "python",
   "nbconvert_exporter": "python",
   "pygments_lexer": "ipython3",
   "version": "3.7.1"
  }
 },
 "nbformat": 4,
 "nbformat_minor": 2
}
